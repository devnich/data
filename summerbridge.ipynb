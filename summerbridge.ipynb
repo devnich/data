{
 "cells": [
  {
   "cell_type": "code",
   "execution_count": null,
   "id": "fb686892-ba25-4d5f-a60e-598c066637f9",
   "metadata": {},
   "outputs": [],
   "source": [
    "3 + 7"
   ]
  },
  {
   "cell_type": "code",
   "execution_count": null,
   "id": "d0811bf9-cb44-4108-aae9-1780a79594e1",
   "metadata": {},
   "outputs": [],
   "source": [
    "print(\"hello\")"
   ]
  },
  {
   "cell_type": "code",
   "execution_count": null,
   "id": "aebe7afd-0302-4e5e-ae64-32f590a86240",
   "metadata": {},
   "outputs": [],
   "source": [
    "print(7)"
   ]
  },
  {
   "cell_type": "code",
   "execution_count": null,
   "id": "7a51cfe7-a81e-4c22-aa60-c8c64efda7bc",
   "metadata": {},
   "outputs": [],
   "source": [
    "name = \"Derek\"\n",
    "age = 42"
   ]
  },
  {
   "cell_type": "code",
   "execution_count": null,
   "id": "d1b5820c-ab72-434b-a1f3-52ad06729c3e",
   "metadata": {},
   "outputs": [],
   "source": [
    "print(age)"
   ]
  },
  {
   "cell_type": "code",
   "execution_count": null,
   "id": "8a9dec67-4cd2-4641-8844-137c9f89849f",
   "metadata": {},
   "outputs": [],
   "source": [
    "# This is a comment. It will not run\n",
    "# You can echo values without using print in this notebook\n",
    "name"
   ]
  },
  {
   "cell_type": "markdown",
   "id": "534021c5-2b24-4cf4-81a7-6fd26c494cef",
   "metadata": {},
   "source": [
    "# Variables and values"
   ]
  },
  {
   "cell_type": "code",
   "execution_count": null,
   "id": "5d29fbdb-cab2-445c-9ee9-8628d4ae7ea8",
   "metadata": {},
   "outputs": [],
   "source": [
    "# Variables can be used in calculations\n",
    "print(age)\n",
    "age = age + 3\n",
    "print(age)"
   ]
  },
  {
   "cell_type": "code",
   "execution_count": null,
   "id": "87fcd983-ecd2-4c43-a417-c43a47dbdfda",
   "metadata": {},
   "outputs": [],
   "source": [
    "# Order of operations matters!\n",
    "first = 1\n",
    "second = first * 5\n",
    "first = 2\n",
    "\n",
    "print(first)\n",
    "print(second)"
   ]
  },
  {
   "cell_type": "code",
   "execution_count": null,
   "id": "427a1f84-2b3b-4d4e-b859-42320594f7cc",
   "metadata": {},
   "outputs": [],
   "source": [
    "# Values have types. Types affect what you can do with them.\n",
    "print(5 - 3)\n",
    "#print(\"hello\" - \"h\")"
   ]
  },
  {
   "cell_type": "code",
   "execution_count": null,
   "id": "1a213205-6383-4c4f-866c-6d31d6411c3f",
   "metadata": {},
   "outputs": [],
   "source": [
    "print(len(\"hello\"))\n",
    "#print(len(6))"
   ]
  },
  {
   "cell_type": "markdown",
   "id": "add6d037-93e4-474b-9855-8c26a46a8b7b",
   "metadata": {},
   "source": [
    "## Challenge\n",
    "Explain what each operator does\n",
    "\n",
    "print(5 // 3)\n",
    "\n",
    "print(5 / 3)\n",
    "\n",
    "print(5 % 3)"
   ]
  },
  {
   "cell_type": "code",
   "execution_count": null,
   "id": "d2df9bad-f52e-4957-afc3-7a597393a662",
   "metadata": {},
   "outputs": [],
   "source": [
    "print(5 // 3)\n",
    "print(5 / 3)\n",
    "print(5 % 3)"
   ]
  },
  {
   "cell_type": "markdown",
   "id": "151a4403-b486-4517-8d6d-45899c80ec12",
   "metadata": {},
   "source": [
    "# Getting help"
   ]
  },
  {
   "cell_type": "code",
   "execution_count": null,
   "id": "220befd9-25e5-4ed9-bedf-60fcda3ce1f1",
   "metadata": {},
   "outputs": [],
   "source": [
    "# Rounding numbers is built in\n",
    "round(3.14159)"
   ]
  },
  {
   "cell_type": "code",
   "execution_count": null,
   "id": "05dee744-f27e-4194-96c3-fcca2722a606",
   "metadata": {},
   "outputs": [],
   "source": [
    "round(3.14159, 2)"
   ]
  },
  {
   "cell_type": "code",
   "execution_count": null,
   "id": "220bef17-0318-4242-9f15-632625668e4d",
   "metadata": {},
   "outputs": [],
   "source": [
    "help(round)"
   ]
  },
  {
   "cell_type": "code",
   "execution_count": null,
   "id": "f51799b9-0435-431b-a0aa-7e7eeb82be29",
   "metadata": {},
   "outputs": [],
   "source": [
    "round(3.14159, ndigits=2)"
   ]
  },
  {
   "cell_type": "code",
   "execution_count": null,
   "id": "1d6e8e52-b246-4c40-baf2-aaa798eaca45",
   "metadata": {},
   "outputs": [],
   "source": [
    "# All functions return a new value\n",
    "rounded_pi = round(3.14159, 2)\n",
    "print(rounded_pi)"
   ]
  },
  {
   "cell_type": "markdown",
   "id": "4d2241ff-af19-42c7-a938-011ace354935",
   "metadata": {},
   "source": [
    "## Challenge\n",
    "\n",
    "In what order do the operations happen?\n",
    "\n",
    "radiance = 1.0\n",
    "\n",
    "radiance = max(2.1, 2.0 + min(radiance, 1.1 * radiance - 0.5))"
   ]
  },
  {
   "cell_type": "code",
   "execution_count": null,
   "id": "e6d6b4ad-5bfb-4e5c-beab-9610fe8c2229",
   "metadata": {},
   "outputs": [],
   "source": [
    "help(min)"
   ]
  },
  {
   "cell_type": "code",
   "execution_count": null,
   "id": "0066f727-2919-4f30-8f85-af98862b2014",
   "metadata": {},
   "outputs": [],
   "source": [
    "radiance = 1.0\n",
    "radiance = max(2.1, 2.0 + min(radiance, 1.1 * radiance - 0.5))\n",
    "\n",
    "print(radiance)"
   ]
  },
  {
   "cell_type": "code",
   "execution_count": null,
   "id": "667a51df-5d15-4d0b-9893-0443e79cce33",
   "metadata": {},
   "outputs": [],
   "source": [
    "# Break down these operations\n",
    "radiance = 1.0\n",
    "\n",
    "min_arg_2 = 1.1 * radiance - 0.5\n",
    "print(\"Min arg 2:\", min_arg_2)\n",
    "\n",
    "min_result = min(radiance, min_arg_2)\n",
    "print(\"Min result:\", min_result)\n",
    "\n",
    "radiance = max(2.1, 2.0 + min_result)\n",
    "print(radiance)"
   ]
  },
  {
   "cell_type": "markdown",
   "id": "499a7014-94fc-4cc1-84e1-fe585e74788c",
   "metadata": {},
   "source": [
    "# A Brief Interlude with Git"
   ]
  },
  {
   "cell_type": "markdown",
   "id": "1db24f32-fee4-4ac8-9039-35bed70262f1",
   "metadata": {},
   "source": [
    "# Libraries"
   ]
  },
  {
   "cell_type": "code",
   "execution_count": null,
   "id": "66008a40-af96-4061-9aed-b5655bbbbbd0",
   "metadata": {},
   "outputs": [],
   "source": [
    "import math"
   ]
  },
  {
   "cell_type": "code",
   "execution_count": null,
   "id": "43ed3e70-44dd-4afb-aab2-e06547178639",
   "metadata": {},
   "outputs": [],
   "source": [
    "math.pi"
   ]
  },
  {
   "cell_type": "code",
   "execution_count": null,
   "id": "eec8e7c7-7255-4969-99f7-a02f37bc0507",
   "metadata": {},
   "outputs": [],
   "source": [
    "print(math.pi)\n",
    "print(math.cos(math.pi))"
   ]
  },
  {
   "cell_type": "code",
   "execution_count": null,
   "id": "29d00f4e-c27d-4f85-9f5d-9d4195586cf6",
   "metadata": {},
   "outputs": [],
   "source": [
    "# get complete help with help()\n",
    "#help(math)\n",
    "\n",
    "# Get a list of options with dir()\n",
    "print(dir(math))"
   ]
  },
  {
   "cell_type": "markdown",
   "id": "9f03282d-700c-4451-9f47-9fd978464493",
   "metadata": {},
   "source": [
    "# List"
   ]
  },
  {
   "cell_type": "code",
   "execution_count": null,
   "id": "d02413e8-d1a4-4eb8-b3a7-19f3379e3909",
   "metadata": {},
   "outputs": [],
   "source": [
    "# A list is an ordered collection of stuff\n",
    "fruits = [\"apple\", \"banana\", \"cherry\", \"date\", \"elderberry\", \"fig\"]"
   ]
  },
  {
   "cell_type": "code",
   "execution_count": null,
   "id": "7743061a-433e-417b-8405-e90cb0183653",
   "metadata": {},
   "outputs": [],
   "source": [
    "fruits"
   ]
  },
  {
   "cell_type": "code",
   "execution_count": null,
   "id": "e1e2b097-8df9-41d1-b43e-39e8deff532a",
   "metadata": {},
   "outputs": [],
   "source": [
    "len(fruits)"
   ]
  },
  {
   "cell_type": "code",
   "execution_count": null,
   "id": "b394e360-93c6-48af-9a75-435297b3039b",
   "metadata": {},
   "outputs": [],
   "source": [
    "# Lists are indexed by position, counting from 0\n",
    "# First item\n",
    "print(fruits[0])\n",
    "\n",
    "# Fifth item\n",
    "print(fruits[4])"
   ]
  },
  {
   "cell_type": "code",
   "execution_count": null,
   "id": "4d1716e3-01a0-4d15-9880-7b8cc57a7fd3",
   "metadata": {},
   "outputs": [],
   "source": [
    "# Get subsets by slicing the list\n",
    "# Get the first 3 items\n",
    "fruits[0:3]"
   ]
  },
  {
   "cell_type": "code",
   "execution_count": null,
   "id": "8f86549e-cb7d-4549-9963-51bd89842740",
   "metadata": {},
   "outputs": [],
   "source": [
    "fruits[2:5]"
   ]
  },
  {
   "cell_type": "code",
   "execution_count": null,
   "id": "689e01e9-6b65-46df-848e-b74f8c688e9c",
   "metadata": {},
   "outputs": [],
   "source": [
    "# Get items by step\n",
    "# Get the first 5 items, every other item\n",
    "fruits[0:5:2]"
   ]
  },
  {
   "cell_type": "code",
   "execution_count": null,
   "id": "b4324a33-87b0-44f6-8c0d-8eb4f84f64fa",
   "metadata": {},
   "outputs": [],
   "source": [
    "# Get first 5 items, every 3rd item\n",
    "fruits[0:5:3]"
   ]
  },
  {
   "cell_type": "code",
   "execution_count": null,
   "id": "f774102c-041f-421c-91d2-0fee95323b9e",
   "metadata": {},
   "outputs": [],
   "source": [
    "print(len(fruits))"
   ]
  },
  {
   "cell_type": "markdown",
   "id": "6ed6b303-dcdd-477d-bcb5-198af5f54ee7",
   "metadata": {},
   "source": [
    "# Challenge\n",
    "\n",
    "What are the following statements doing?\n",
    "\n",
    "fruits[-1]\n",
    "\n",
    "fruits[20]\n",
    "\n",
    "fruits[-3:]"
   ]
  },
  {
   "cell_type": "code",
   "execution_count": null,
   "id": "218c15ab-8548-48b0-a661-2ba226944d5e",
   "metadata": {},
   "outputs": [],
   "source": [
    "print(fruits[-1])\n",
    "#print(fruits[20])\n",
    "print(fruits[-3:])"
   ]
  },
  {
   "cell_type": "code",
   "execution_count": null,
   "id": "fb2c69ce-c2b8-4cd9-b50b-b7d3993210d7",
   "metadata": {
    "scrolled": true
   },
   "outputs": [],
   "source": [
    "# Why are lists indexed this way?\n",
    "print(fruits[:2])\n",
    "print(fruits[2:])\n",
    "\n",
    "print(len(fruits[1:3]))"
   ]
  },
  {
   "cell_type": "markdown",
   "id": "8d647cb7-6985-46c7-8bdb-db9833c74d1e",
   "metadata": {},
   "source": [
    "## Adding stuff to lists"
   ]
  },
  {
   "cell_type": "code",
   "execution_count": null,
   "id": "138d73a6-8af6-450e-8612-74d560cea3ea",
   "metadata": {},
   "outputs": [],
   "source": [
    "# Update a specific item\n",
    "print(fruits)\n",
    "\n",
    "fruits[0] = \"apricot\"\n",
    "print(fruits)"
   ]
  },
  {
   "cell_type": "code",
   "execution_count": null,
   "id": "825f5395-0ebf-4d37-a1af-97adb4defaea",
   "metadata": {},
   "outputs": [],
   "source": [
    "# Add new items to the list\n",
    "fruits.append(\"grape\")\n",
    "\n",
    "print(fruits)"
   ]
  },
  {
   "cell_type": "code",
   "execution_count": null,
   "id": "dff95351-485e-4b16-9c34-5aaffecd95ce",
   "metadata": {},
   "outputs": [],
   "source": [
    "# Add items from a second list to the first list\n",
    "more_fruits = [\"honeydew\", \"imbe\", \"jackfruit\"]\n",
    "fruits.extend(more_fruits)\n",
    "\n",
    "print(fruits)"
   ]
  },
  {
   "cell_type": "code",
   "execution_count": null,
   "id": "752614be-e0f4-44c9-b801-2be50c64fd48",
   "metadata": {},
   "outputs": [],
   "source": [
    "# Many functions operate on collections\n",
    "# Assessing our wide receiving corp\n",
    "receiving_yards = [450, 370, 870, 150]\n",
    "\n",
    "mean_yards = sum(receiving_yards)/len(receiving_yards)\n",
    "print(mean_yards)"
   ]
  },
  {
   "cell_type": "markdown",
   "id": "5b6b3fe9-a5a6-407b-98aa-651dab949213",
   "metadata": {},
   "source": [
    "# For loops"
   ]
  },
  {
   "cell_type": "code",
   "execution_count": null,
   "id": "71ddfa0f-045a-4873-a1c9-5a3e6ebaf068",
   "metadata": {},
   "outputs": [],
   "source": [
    "for fruit in fruits:\n",
    "    print(fruit)"
   ]
  },
  {
   "cell_type": "code",
   "execution_count": null,
   "id": "7e63252e-991c-47fb-b090-105c9509083e",
   "metadata": {},
   "outputs": [],
   "source": [
    "for bob in fruits:\n",
    "    print(bob)"
   ]
  },
  {
   "cell_type": "code",
   "execution_count": null,
   "id": "6389c2e7-bbd4-4d04-b7a5-8742178c63a1",
   "metadata": {},
   "outputs": [],
   "source": [
    "# Code blocks can contain many statements\n",
    "primes = [2, 3, 5]\n",
    "for p in primes:\n",
    "    squared = p ** 2\n",
    "    cubed = p ** 3\n",
    "    print(p, squared, cubed)"
   ]
  },
  {
   "cell_type": "code",
   "execution_count": null,
   "id": "bf2da52e-ba39-4533-962d-4466bb214951",
   "metadata": {},
   "outputs": [],
   "source": [
    "# Create a new collection from an existing collection\n",
    "primes_squared = []\n",
    "for p in primes:\n",
    "    primes_squared.append(p ** 2)\n",
    "\n",
    "print(primes_squared)"
   ]
  },
  {
   "cell_type": "markdown",
   "id": "fb9985f9-9a0f-4c67-82e6-bddf4afdd7a7",
   "metadata": {},
   "source": [
    "## Challenge\n",
    "\n",
    "Get the total length of all the items in the fruits list (i.e. total character count)#"
   ]
  },
  {
   "cell_type": "code",
   "execution_count": null,
   "id": "876eae62-ff68-488d-bd1c-cbbd460826d3",
   "metadata": {},
   "outputs": [],
   "source": [
    "# Solution 1\n",
    "fruit_lengths = []\n",
    "for f in fruits:\n",
    "    fruit_lengths.append(len(f))\n",
    "\n",
    "print(fruit_lengths)\n",
    "print(sum(fruit_lengths))"
   ]
  },
  {
   "cell_type": "code",
   "execution_count": null,
   "id": "ebcd9c42-62a3-4b50-a91e-2925bde784bf",
   "metadata": {},
   "outputs": [],
   "source": [
    "# Solution 2\n",
    "count = 0\n",
    "for f in fruits:\n",
    "    count = count + len(f)\n",
    "    print(count)\n",
    "\n",
    "print(\"Final count\", count)"
   ]
  },
  {
   "cell_type": "code",
   "execution_count": null,
   "id": "45a30c2b-070a-4e7f-a582-3a9e1b1c72c0",
   "metadata": {},
   "outputs": [],
   "source": [
    "# Generator comprehension\n",
    "sum(len(f) for f in fruits)"
   ]
  },
  {
   "cell_type": "code",
   "execution_count": null,
   "id": "d8cd1624-3b67-4188-9a53-f53755cb4e91",
   "metadata": {},
   "outputs": [],
   "source": [
    "# Text join\n",
    "joined_fruits = \"\".join(fruits)\n",
    "print(joined_fruits)\n",
    "print(len(joined_fruits))"
   ]
  },
  {
   "cell_type": "code",
   "execution_count": null,
   "id": "691d9f25-d91b-44f2-b0a1-e9dcd8de4eb4",
   "metadata": {},
   "outputs": [],
   "source": [
    "print(\"_\".join(fruits))"
   ]
  },
  {
   "cell_type": "markdown",
   "id": "36d51afb-88a5-4360-9cdc-61d841f2a224",
   "metadata": {},
   "source": [
    "# Linear Algebra with NumPy"
   ]
  },
  {
   "cell_type": "code",
   "execution_count": null,
   "id": "b7a67370-1376-412b-821b-c9ff25f99ca3",
   "metadata": {},
   "outputs": [],
   "source": [
    "import numpy as np"
   ]
  },
  {
   "cell_type": "code",
   "execution_count": null,
   "id": "53c4af53-0ae6-4313-a51b-5e9ac2ba8cfc",
   "metadata": {},
   "outputs": [],
   "source": [
    "# Create an array of random numbers\n",
    "m_rand = np.random.rand(3, 4)\n",
    "print(m_rand)"
   ]
  },
  {
   "cell_type": "code",
   "execution_count": null,
   "id": "dca3c9bc-66b7-4c6a-ad65-903b029c1f71",
   "metadata": {},
   "outputs": [],
   "source": [
    "# index by row, column\n",
    "m_rand[0, 0]"
   ]
  },
  {
   "cell_type": "code",
   "execution_count": null,
   "id": "b9068532-24df-4567-9af5-cb057bf99e44",
   "metadata": {},
   "outputs": [],
   "source": [
    "m_rand[0,1]"
   ]
  },
  {
   "cell_type": "code",
   "execution_count": null,
   "id": "3ab9a186-e2bb-468c-bc3f-a5fe61804b5a",
   "metadata": {},
   "outputs": [],
   "source": [
    "# Arrays have attributes\n",
    "print(m_rand.shape)\n",
    "print(m_rand.size)\n",
    "print(m_rand.ndim)"
   ]
  },
  {
   "cell_type": "code",
   "execution_count": null,
   "id": "d79d8de9-fe3c-4d4b-b210-ba58c424d703",
   "metadata": {},
   "outputs": [],
   "source": [
    "# Linear algebra with Numpy\n",
    "x = np.arange(9)\n",
    "y = np.arange(9)\n",
    "\n",
    "print(x)\n",
    "print(y)"
   ]
  },
  {
   "cell_type": "code",
   "execution_count": null,
   "id": "a66d3bab-e82b-41d4-a101-33b4806c2e25",
   "metadata": {},
   "outputs": [],
   "source": [
    "# Operations are element-wise by default\n",
    "x * y"
   ]
  },
  {
   "cell_type": "code",
   "execution_count": null,
   "id": "7f6fc6a4-2086-4090-be07-95863f437c20",
   "metadata": {},
   "outputs": [],
   "source": [
    "# Matrix-wise operations if you like\n",
    "x @ y"
   ]
  },
  {
   "cell_type": "code",
   "execution_count": null,
   "id": "80702046-6a32-433a-8aa5-af74eb35fb27",
   "metadata": {},
   "outputs": [],
   "source": [
    "# You can reshape arrays\n",
    "x1 = x.reshape(3, 3)\n",
    "x2 = x.reshape(9, 1)\n",
    "\n",
    "print(x)\n",
    "print(x1)\n",
    "print(x2)"
   ]
  },
  {
   "cell_type": "markdown",
   "id": "0d6867c3-692c-44e6-a1a1-c46f7cc7d213",
   "metadata": {},
   "source": [
    "## Challenge\n",
    "\n",
    "1. Create a 3 x 3 array containing the number 0-8\n",
    "2. Multiply the array by itself (elementwise)\n",
    "3. Multiply the array by its transpose\n",
    "4. Divide the array by itself. What happens?"
   ]
  },
  {
   "cell_type": "code",
   "execution_count": null,
   "id": "cedfc9fa-b887-4095-ad8b-f05dfd32ce40",
   "metadata": {},
   "outputs": [],
   "source": [
    "print(x1)\n",
    "print(x1.T)"
   ]
  },
  {
   "cell_type": "code",
   "execution_count": null,
   "id": "7b7a5742-0759-4b20-8be2-918fda873592",
   "metadata": {},
   "outputs": [],
   "source": [
    "x = np.arange(9)\n",
    "x1 = x.reshape(3, 3)\n",
    "print(x1)"
   ]
  },
  {
   "cell_type": "code",
   "execution_count": null,
   "id": "6d1b07bb-90b5-46e2-9d81-4dfc7cd9bfe8",
   "metadata": {},
   "outputs": [],
   "source": [
    "# Use method chaining to do more work on one line\n",
    "demo = np.arange(9).reshape(3, 3)\n",
    "print(demo)"
   ]
  },
  {
   "cell_type": "code",
   "execution_count": null,
   "id": "19bb7d80-21f8-408d-b667-dc0df56f12e6",
   "metadata": {},
   "outputs": [],
   "source": [
    "demo * demo"
   ]
  },
  {
   "cell_type": "markdown",
   "id": "18883477-b2bd-4484-89d3-a0533db58757",
   "metadata": {},
   "source": [
    "# Get transpose, method 1\n",
    "demo * demo.T"
   ]
  },
  {
   "cell_type": "code",
   "execution_count": null,
   "id": "c28a4f57-48e1-4f29-8344-87582d3c06c5",
   "metadata": {},
   "outputs": [],
   "source": [
    "# Get transpose, method 2\n",
    "demo * np.transpose(demo)"
   ]
  },
  {
   "cell_type": "code",
   "execution_count": null,
   "id": "45e85ad8-c614-4f4f-8f8d-8f2be115f2ae",
   "metadata": {},
   "outputs": [],
   "source": [
    "#demo / demo"
   ]
  },
  {
   "cell_type": "markdown",
   "id": "f4abf60c-f00f-4639-8446-cedaaa61ebc8",
   "metadata": {},
   "source": [
    "# Working with data in Pandas"
   ]
  },
  {
   "cell_type": "code",
   "execution_count": null,
   "id": "e985a78a-eb1f-47c8-983c-28b713292174",
   "metadata": {},
   "outputs": [],
   "source": [
    "import pandas as pd"
   ]
  },
  {
   "cell_type": "code",
   "execution_count": null,
   "id": "28d67aec-dbeb-4dfc-bcd3-b4085609f1cd",
   "metadata": {},
   "outputs": [],
   "source": [
    "data = pd.read_csv(\"gapminder_gdp_oceania.csv\")\n",
    "print(data)"
   ]
  },
  {
   "cell_type": "code",
   "execution_count": null,
   "id": "f6d5c30a-0d94-4409-b316-7bb81afe67ee",
   "metadata": {},
   "outputs": [],
   "source": [
    "data"
   ]
  },
  {
   "cell_type": "code",
   "execution_count": null,
   "id": "207d9723-c9c8-47e2-9047-90ec9892f989",
   "metadata": {},
   "outputs": [],
   "source": [
    "# Import csv and index by country name\n",
    "data = pd.read_csv(\"gapminder_gdp_oceania.csv\", index_col = \"country\")"
   ]
  },
  {
   "cell_type": "code",
   "execution_count": null,
   "id": "94c275c2-b725-4d46-b442-6c87371dd2e6",
   "metadata": {},
   "outputs": [],
   "source": [
    "data"
   ]
  },
  {
   "cell_type": "code",
   "execution_count": null,
   "id": "7cb7bcdb-b578-46cc-b8e4-39a8ff613363",
   "metadata": {},
   "outputs": [],
   "source": [
    "# Good advice about Python\n",
    "import this"
   ]
  },
  {
   "cell_type": "code",
   "execution_count": null,
   "id": "fbe7f72b-800e-4670-81c6-7f18190afb44",
   "metadata": {},
   "outputs": [],
   "source": [
    "data"
   ]
  },
  {
   "cell_type": "code",
   "execution_count": null,
   "id": "b9c65b01-365b-4213-8487-6d741eda08c9",
   "metadata": {},
   "outputs": [],
   "source": [
    "# Data frames have attributes\n",
    "print(data.index)\n",
    "print(data.columns)\n",
    "print(data.shape)"
   ]
  },
  {
   "cell_type": "code",
   "execution_count": null,
   "id": "e0831e24-89f0-4ae1-bc5f-132e5a482875",
   "metadata": {},
   "outputs": [],
   "source": [
    "# Data frames can tell you about their contents\n",
    "data.info()"
   ]
  },
  {
   "cell_type": "code",
   "execution_count": null,
   "id": "a9acfca7-39e8-4226-b475-22e8a404ca52",
   "metadata": {},
   "outputs": [],
   "source": [
    "# Get descriptive statistics\n",
    "data.describe()"
   ]
  },
  {
   "cell_type": "code",
   "execution_count": null,
   "id": "d13ecb72-f693-42f7-b2aa-11e61d8cc221",
   "metadata": {},
   "outputs": [],
   "source": [
    "# Get the first N rows\n",
    "data.head(1)"
   ]
  },
  {
   "cell_type": "code",
   "execution_count": null,
   "id": "ccab9264-3fc4-441b-af96-e8528a45a542",
   "metadata": {},
   "outputs": [],
   "source": [
    "data.T.describe()"
   ]
  },
  {
   "cell_type": "markdown",
   "id": "b356f46b-30f1-4200-b7eb-2c63156a03c9",
   "metadata": {},
   "source": [
    "# Subsetting data"
   ]
  },
  {
   "cell_type": "code",
   "execution_count": null,
   "id": "60cfea0e-d169-4ed5-84f5-abc86f292510",
   "metadata": {},
   "outputs": [],
   "source": [
    "data = pd.read_csv(\"gapminder_gdp_europe.csv\", index_col = \"country\")"
   ]
  },
  {
   "cell_type": "code",
   "execution_count": null,
   "id": "ab205268-0fde-4683-8840-da28f9a56e4d",
   "metadata": {},
   "outputs": [],
   "source": [
    "data.head(3)"
   ]
  },
  {
   "cell_type": "code",
   "execution_count": null,
   "id": "1d5f5947-8a6c-42da-b28b-9a0c4d5dde1c",
   "metadata": {},
   "outputs": [],
   "source": [
    "# Get item by index location\n",
    "data.iloc[0,0]"
   ]
  },
  {
   "cell_type": "code",
   "execution_count": null,
   "id": "fee9ca5d-4241-4f5f-b32e-befd85e407e3",
   "metadata": {},
   "outputs": [],
   "source": [
    "# Get item by label\n",
    "data.loc[\"Albania\", \"gdpPercap_1952\"]"
   ]
  },
  {
   "cell_type": "markdown",
   "id": "33e5a863-e605-481c-b0c4-8c25ab2bf116",
   "metadata": {},
   "source": [
    "# A brief digression on string methods"
   ]
  },
  {
   "cell_type": "code",
   "execution_count": null,
   "id": "d582c8a8-087c-4054-a722-d04f28c80fad",
   "metadata": {},
   "outputs": [],
   "source": [
    "# Standard has string methods\n",
    "big_hello = \"hello\".title()\n",
    "print(big_hello)"
   ]
  },
  {
   "cell_type": "code",
   "execution_count": null,
   "id": "3e8b0ebc-fdee-4aff-bdf2-65fe50343577",
   "metadata": {},
   "outputs": [],
   "source": [
    "help(\"hello\".title)"
   ]
  },
  {
   "cell_type": "code",
   "execution_count": null,
   "id": "9d2a63b3-7a67-405a-a8c1-db80591f4783",
   "metadata": {},
   "outputs": [],
   "source": [
    "# What methods are available?\n",
    "print(dir(\"hello\"))"
   ]
  },
  {
   "cell_type": "code",
   "execution_count": null,
   "id": "8c700fbf-ee2a-47ca-b93e-e0d689d5f170",
   "metadata": {},
   "outputs": [],
   "source": [
    "print(data.columns)"
   ]
  },
  {
   "cell_type": "code",
   "execution_count": null,
   "id": "2c8b421b-d85f-4e29-ae1c-89acef7bcf82",
   "metadata": {},
   "outputs": [],
   "source": [
    "print(dir(data.columns.str))"
   ]
  },
  {
   "cell_type": "code",
   "execution_count": null,
   "id": "ecec1d08-0ed1-401a-8127-6269cf95a678",
   "metadata": {},
   "outputs": [],
   "source": [
    "# Rewrite column headers to strip off leading text\n",
    "data.columns = data.columns.str.strip(\"gdpPercap_\")\n",
    "print(data.columns)"
   ]
  },
  {
   "cell_type": "code",
   "execution_count": null,
   "id": "6e3662fc-5583-4c43-a165-b58117f55531",
   "metadata": {},
   "outputs": [],
   "source": [
    "data.loc[\"Albania\", \"1952\"]"
   ]
  },
  {
   "cell_type": "code",
   "execution_count": null,
   "id": "ff6e3cdd-b248-40af-a212-28ea8873abc6",
   "metadata": {},
   "outputs": [],
   "source": [
    "subset = data.loc[\"Italy\":\"Poland\", \"1962\":\"1972\"]"
   ]
  },
  {
   "cell_type": "code",
   "execution_count": null,
   "id": "afe364bb-b11a-4c5b-9003-2437c5a7de4e",
   "metadata": {},
   "outputs": [],
   "source": [
    "subset"
   ]
  },
  {
   "cell_type": "code",
   "execution_count": null,
   "id": "41c00952-0938-445c-9886-07af8dbce8ac",
   "metadata": {},
   "outputs": [],
   "source": [
    "# Get all of the variables for a subset of rows\n",
    "data.loc[\"Italy\": \"Poland\", :]"
   ]
  },
  {
   "cell_type": "code",
   "execution_count": null,
   "id": "3b21fb6c-2a00-4296-877a-54bf2ad0e0d6",
   "metadata": {},
   "outputs": [],
   "source": [
    "subset.describe()"
   ]
  },
  {
   "cell_type": "code",
   "execution_count": null,
   "id": "883aae35-1523-464f-9b57-0a8e6602e90f",
   "metadata": {},
   "outputs": [],
   "source": [
    "subset.max()"
   ]
  },
  {
   "cell_type": "markdown",
   "id": "0734eeb0-be93-4118-b515-6d0fe750e87a",
   "metadata": {},
   "source": [
    "## Challenge\n",
    "\n",
    "1. Calculate subset.max() and assign the results to a variable. What kind of thing is it?\n",
    "2. What is the maximum value of the new thing?\n",
    "3. Can you calculate the overall max value of subset in 1 step?"
   ]
  },
  {
   "cell_type": "code",
   "execution_count": null,
   "id": "21265480-6d7b-41d0-a9a6-f93feac4570c",
   "metadata": {},
   "outputs": [],
   "source": [
    "subset_max = subset.max()\n",
    "print(subset_max)"
   ]
  },
  {
   "cell_type": "code",
   "execution_count": null,
   "id": "b93aa753-8228-4d52-9b33-4b63c2c92e78",
   "metadata": {},
   "outputs": [],
   "source": [
    "print(type(subset))\n",
    "print(type(subset_max))"
   ]
  },
  {
   "cell_type": "code",
   "execution_count": null,
   "id": "eac0902a-1e8b-4351-88c4-25a20da64722",
   "metadata": {},
   "outputs": [],
   "source": [
    "subset_max.max()"
   ]
  },
  {
   "cell_type": "code",
   "execution_count": null,
   "id": "15fd6121-6545-4694-8fa5-b574e3bddec0",
   "metadata": {},
   "outputs": [],
   "source": [
    "# Solution 1\n",
    "subset.max().max()"
   ]
  },
  {
   "cell_type": "code",
   "execution_count": null,
   "id": "26751377-fbb7-456a-bc69-bef7e04c5a16",
   "metadata": {},
   "outputs": [],
   "source": [
    "# Solution\n",
    "print(\"Default max\")\n",
    "print(subset.max())\n",
    "print(\"Max along axis 0\")\n",
    "print(subset.max(axis = 0))\n",
    "print(\"Max along axis 1\")\n",
    "print(subset.max(axis = 1))"
   ]
  },
  {
   "cell_type": "code",
   "execution_count": null,
   "id": "5db781e0-12a0-47f7-a12f-79660cfc27b8",
   "metadata": {},
   "outputs": [],
   "source": [
    "# Get max for overall data frame\n",
    "subset.max(axis = None)"
   ]
  },
  {
   "cell_type": "markdown",
   "id": "1b08401c-4f3f-4d9b-a6ee-2924c0f5b494",
   "metadata": {},
   "source": [
    "# Filter data by criterion"
   ]
  },
  {
   "cell_type": "code",
   "execution_count": null,
   "id": "c351c338-4c50-4402-8af4-ca7aa76876b1",
   "metadata": {},
   "outputs": [],
   "source": [
    "subset"
   ]
  },
  {
   "cell_type": "code",
   "execution_count": null,
   "id": "db9e6af9-dc1e-4614-b2fe-e97039b97abe",
   "metadata": {},
   "outputs": [],
   "source": [
    "# Get GDPs greater than 10,000\n",
    "subset > 10000"
   ]
  },
  {
   "cell_type": "code",
   "execution_count": null,
   "id": "d58b99af-dd2e-49f3-9807-fd1c95eb13db",
   "metadata": {},
   "outputs": [],
   "source": [
    "# Filter the data frame by the criterion\n",
    "df = subset[subset > 10000]\n",
    "df"
   ]
  },
  {
   "cell_type": "code",
   "execution_count": null,
   "id": "9402c88b-c20f-4bd0-aedf-4abba1c5b79a",
   "metadata": {},
   "outputs": [],
   "source": [
    "# Get everything above the median\n",
    "subset[subset > subset.median(axis = None)]"
   ]
  },
  {
   "cell_type": "code",
   "execution_count": null,
   "id": "2d3783f7-fdbf-41de-bfeb-a91043701035",
   "metadata": {},
   "outputs": [],
   "source": [
    "df"
   ]
  },
  {
   "cell_type": "markdown",
   "id": "11cb0f77-5f3f-41d3-83b4-41d2e2c44626",
   "metadata": {},
   "source": [
    "# Working with missing data"
   ]
  },
  {
   "cell_type": "code",
   "execution_count": null,
   "id": "2fe81c0f-af7b-452d-9f14-b0938eabcc78",
   "metadata": {},
   "outputs": [],
   "source": [
    "# Missing data is ignored by default\n",
    "print(\"Column means\")\n",
    "print(df.mean())\n",
    "\n",
    "print(\"Row means\")\n",
    "print(df.mean(axis = 1))"
   ]
  },
  {
   "cell_type": "code",
   "execution_count": null,
   "id": "10a1a08b-91ac-451d-915f-4773e02c29fb",
   "metadata": {},
   "outputs": [],
   "source": [
    "# Check for missing values\n",
    "df.isna()"
   ]
  },
  {
   "cell_type": "code",
   "execution_count": null,
   "id": "8c893e6c-d6d8-41a7-aaf2-c4a81febecc6",
   "metadata": {},
   "outputs": [],
   "source": [
    "# Count our missing values\n",
    "# Missing by row\n",
    "df.isna().sum()"
   ]
  },
  {
   "cell_type": "code",
   "execution_count": null,
   "id": "382a3a92-f156-4d4d-8c39-eee81a3e3935",
   "metadata": {},
   "outputs": [],
   "source": [
    "# Check total missing values\n",
    "df.isna().sum().sum()"
   ]
  },
  {
   "cell_type": "code",
   "execution_count": null,
   "id": "d47f2ad7-73dc-48a2-8f61-1456f8248c59",
   "metadata": {},
   "outputs": [],
   "source": [
    "df"
   ]
  },
  {
   "cell_type": "code",
   "execution_count": null,
   "id": "158d451f-5352-41d9-9eb2-ba6fe9f608d6",
   "metadata": {},
   "outputs": [],
   "source": [
    "# Drop missing values\n",
    "df.dropna()"
   ]
  },
  {
   "cell_type": "code",
   "execution_count": null,
   "id": "d622c366-4182-4f40-b23e-0c45fa1a33ea",
   "metadata": {},
   "outputs": [],
   "source": [
    "# Replace missing values with a fixed value\n",
    "df_fixed = df.fillna(99)\n",
    "print(df_fixed)"
   ]
  },
  {
   "cell_type": "code",
   "execution_count": null,
   "id": "b442718b-301a-46e7-b200-7400e2b9190e",
   "metadata": {},
   "outputs": [],
   "source": [
    "# Replace missing values with interpolated data\n",
    "df_interpolated = df.interpolate()\n",
    "print(df_interpolated)"
   ]
  },
  {
   "cell_type": "markdown",
   "id": "945ebc7d-a16d-46f9-beb0-db0dc9edd838",
   "metadata": {},
   "source": [
    "## Hard Challenge: The perils of missing data\n",
    "1. Create an array of random numbers matching the \"data\" dataframe\n",
    "\n",
    "```random_filter = np.random.rand(30,12) * data.max(axis = None)```\n",
    "\n",
    "OR\n",
    "\n",
    "```random_filter = np.random.rand(30,12) * 49000```\n",
    "\n",
    "2. Create a new data frame that filters out all values lower than the corresponding random numbers\n",
    "3. Interpolate new values for the missing data in the new data frame. How accurate are they?"
   ]
  },
  {
   "cell_type": "code",
   "execution_count": null,
   "id": "fde37b05-827c-4202-8542-3850ef47f87d",
   "metadata": {},
   "outputs": [],
   "source": [
    "random_filter = np.random.rand(30, 12) * data.max(axis=None)"
   ]
  },
  {
   "cell_type": "code",
   "execution_count": null,
   "id": "ff0d85be-f86a-4c7a-9edc-485835579e9a",
   "metadata": {},
   "outputs": [],
   "source": [
    "new_data = data[data > random_filter]\n",
    "new_data"
   ]
  },
  {
   "cell_type": "code",
   "execution_count": null,
   "id": "bba6f568-5144-4af8-a4cd-2dd962f2eaf0",
   "metadata": {},
   "outputs": [],
   "source": [
    "new_data_imp = new_data.interpolate()"
   ]
  },
  {
   "cell_type": "code",
   "execution_count": null,
   "id": "dcff833b-50af-4cc4-afd4-d1e45132f320",
   "metadata": {},
   "outputs": [],
   "source": [
    "data.describe()"
   ]
  },
  {
   "cell_type": "code",
   "execution_count": null,
   "id": "e54527fb-63ca-45c5-be9a-21bbb6589971",
   "metadata": {},
   "outputs": [],
   "source": [
    "new_data_imp.describe()"
   ]
  },
  {
   "cell_type": "markdown",
   "id": "2634ed1c-f99d-45a2-8ee5-6473d03019ed",
   "metadata": {},
   "source": [
    "# Sorting and grouping"
   ]
  },
  {
   "cell_type": "code",
   "execution_count": null,
   "id": "25b534c3-f7f9-40b5-9bed-db9dcb74d057",
   "metadata": {},
   "outputs": [],
   "source": [
    "# Z score all of the GDP data points\n",
    "z = (data - data.mean(axis = None))/data.values.std(ddof=1)"
   ]
  },
  {
   "cell_type": "code",
   "execution_count": null,
   "id": "dcbf6519-7ac3-452f-b059-50d771c1af4e",
   "metadata": {},
   "outputs": [],
   "source": [
    "data.mean(axis = None)"
   ]
  },
  {
   "cell_type": "code",
   "execution_count": null,
   "id": "9c4205d1-1aa6-4214-b57e-1eaf08581031",
   "metadata": {},
   "outputs": [],
   "source": [
    "# Get mean z score for each country\n",
    "mean_z = z.mean(axis=1)\n",
    "mean_z"
   ]
  },
  {
   "cell_type": "code",
   "execution_count": null,
   "id": "cd237f0b-50d9-4d55-ad7d-596e2d97dacf",
   "metadata": {},
   "outputs": [],
   "source": [
    "bool_z = mean_z > 0\n",
    "bool_z"
   ]
  },
  {
   "cell_type": "code",
   "execution_count": null,
   "id": "d8e67eb8-8305-442f-8fde-8bf3e5899dd7",
   "metadata": {},
   "outputs": [],
   "source": [
    "# Add new columns to data frame\n",
    "data[\"mean_z\"] = mean_z\n",
    "data[\"wealthy\"] = bool_z"
   ]
  },
  {
   "cell_type": "code",
   "execution_count": null,
   "id": "2a0df716-ce90-4587-972b-214c6d803b41",
   "metadata": {},
   "outputs": [],
   "source": [
    "data.head(3)"
   ]
  },
  {
   "cell_type": "code",
   "execution_count": null,
   "id": "02b4ab9e-2a11-468b-966c-2a206d40e908",
   "metadata": {},
   "outputs": [],
   "source": [
    "# Get descriptive statistics for groups\n",
    "data.groupby(\"wealthy\").mean()"
   ]
  },
  {
   "cell_type": "code",
   "execution_count": null,
   "id": "637ec1ee-accf-44be-9882-e6258879668e",
   "metadata": {},
   "outputs": [],
   "source": [
    "# Get descriptive statistics for each group\n",
    "data.groupby(\"wealthy\").describe()"
   ]
  },
  {
   "cell_type": "code",
   "execution_count": null,
   "id": "6e8802b5-edf7-4379-9ab4-910dd590f1de",
   "metadata": {},
   "outputs": [],
   "source": [
    "# Write output\n",
    "data.to_csv(\"europe_normed.csv\")"
   ]
  },
  {
   "cell_type": "markdown",
   "id": "85668be0-8048-4206-b7c9-b0e119d09700",
   "metadata": {},
   "source": [
    "# Looping over data sets"
   ]
  },
  {
   "cell_type": "code",
   "execution_count": null,
   "id": "9a0c04a1-10a4-4597-a867-e96545a6004c",
   "metadata": {},
   "outputs": [],
   "source": [
    "import pandas as pd"
   ]
  },
  {
   "cell_type": "code",
   "execution_count": null,
   "id": "c7aa7135-3174-4480-bc8c-be285ae0a087",
   "metadata": {},
   "outputs": [],
   "source": [
    "# Import the data from files in a list\n",
    "file_list = [\"gapminder_gdp_africa.csv\", \"gapminder_gdp_asia.csv\"]\n",
    "\n",
    "for filename in file_list:\n",
    "    data = pd.read_csv(filename, index_col = \"country\")\n",
    "    print(filename)\n",
    "    print(data.head(1))"
   ]
  },
  {
   "cell_type": "code",
   "execution_count": null,
   "id": "101c60ff-a01e-49fd-8bae-803f8747bf15",
   "metadata": {},
   "outputs": [],
   "source": [
    "# Automatically get a list of files\n",
    "import glob"
   ]
  },
  {
   "cell_type": "code",
   "execution_count": null,
   "id": "f62da62a-3d8b-45f3-be08-4c85f282be0c",
   "metadata": {},
   "outputs": [],
   "source": [
    "# Get all the CSV files\n",
    "glob.glob(\"*.csv\")"
   ]
  },
  {
   "cell_type": "code",
   "execution_count": null,
   "id": "386a12dc-e267-409a-8e55-7340b7d055c6",
   "metadata": {},
   "outputs": [],
   "source": [
    "# Get all the CSV or TSV files\n",
    "glob.glob(\"*.?sv\")"
   ]
  },
  {
   "cell_type": "code",
   "execution_count": null,
   "id": "ac86706d-0354-45a2-9cfe-e196ccfe095a",
   "metadata": {},
   "outputs": [],
   "source": [
    "# Get a list of all the continents\n",
    "glob.glob(\"gapminder_gdp_*.csv\")"
   ]
  },
  {
   "cell_type": "code",
   "execution_count": null,
   "id": "1923725f-c1e2-47b1-ad9f-9d8f099ad4d6",
   "metadata": {},
   "outputs": [],
   "source": [
    "# Get continent-level data and aggregate into 1 data frame\n",
    "data_frames = []\n",
    "\n",
    "for filename in glob.glob(\"gapminder_gdp_*.csv\"):\n",
    "    print(filename)\n",
    "    data = pd.read_csv(filename, index_col = \"country\")\n",
    "    data_frames.append(data)\n",
    "\n",
    "# Concatenate data frames\n",
    "all_data = pd.concat(data_frames)"
   ]
  },
  {
   "cell_type": "code",
   "execution_count": null,
   "id": "a6583b12-ed42-4225-bc7a-e320238faccc",
   "metadata": {},
   "outputs": [],
   "source": [
    "# Inspect our results\n",
    "print(all_data.shape)\n",
    "print(all_data.index)"
   ]
  },
  {
   "cell_type": "markdown",
   "id": "d702f4ec-03f2-4074-a07c-4dc36bb67714",
   "metadata": {},
   "source": [
    "# Conditionals"
   ]
  },
  {
   "cell_type": "code",
   "execution_count": null,
   "id": "f12882e3-505e-44e4-89f7-c6725cf1ab6e",
   "metadata": {
    "editable": true,
    "slideshow": {
     "slide_type": ""
    },
    "tags": []
   },
   "outputs": [],
   "source": [
    "# Does a file end in \"all.csv\"?\n",
    "for filename in glob.glob(\"gapminder*.csv\"):\n",
    "    print(\"Current file:\", filename)\n",
    "    print(filename.endswith(\"all.csv\"))"
   ]
  },
  {
   "cell_type": "code",
   "execution_count": null,
   "id": "5d287a94-d929-472f-a54a-e8def3e1ec86",
   "metadata": {},
   "outputs": [],
   "source": [
    "# Get truth value of a statement\n",
    "mass = 3\n",
    "\n",
    "print(mass == 3)\n",
    "print(mass > 5)\n",
    "print(mass < 4)"
   ]
  },
  {
   "cell_type": "code",
   "execution_count": null,
   "id": "9edc1d9b-8731-4a2a-8f0a-dd6eddc093b2",
   "metadata": {},
   "outputs": [],
   "source": [
    "# Test for membership in a collection\n",
    "primes = [2, 3, 5]\n",
    "\n",
    "print(2 in primes)\n",
    "print(7 in primes)"
   ]
  },
  {
   "cell_type": "code",
   "execution_count": null,
   "id": "999d404a-b98b-4065-a494-724529bae922",
   "metadata": {},
   "outputs": [],
   "source": [
    "# Testing for missing values\n",
    "data = pd.read_csv(\"europe_normed.csv\", index_col = \"country\")\n",
    "subset = data.loc[\"Italy\":\"Poland\", \"1962\":\"1972\"]\n",
    "df = subset[subset > 10000]"
   ]
  },
  {
   "cell_type": "code",
   "execution_count": null,
   "id": "43494ce8-7725-4b44-8d39-5de2af00df05",
   "metadata": {},
   "outputs": [],
   "source": [
    "# Which values are missing?\n",
    "#df.isna()"
   ]
  },
  {
   "cell_type": "code",
   "execution_count": null,
   "id": "4175b8fe-226f-47ec-99b2-fb4cf6f3e937",
   "metadata": {},
   "outputs": [],
   "source": [
    "# Are any values missing?\n",
    "df.isna().any().any()"
   ]
  },
  {
   "cell_type": "code",
   "execution_count": null,
   "id": "f74bfe0d-862f-43b3-8b27-56e543020937",
   "metadata": {},
   "outputs": [],
   "source": [
    "# Make choices with if - then statement\n",
    "mass = 2.0\n",
    "\n",
    "if mass > 3.0:\n",
    "    print(mass, \"is large\")"
   ]
  },
  {
   "cell_type": "code",
   "execution_count": null,
   "id": "7ae7a578-403e-442e-8ae2-cfb241f0d7fc",
   "metadata": {},
   "outputs": [],
   "source": [
    "# Test for files ending in \"all.csv\"\n",
    "data_frames = []\n",
    "\n",
    "for filename in glob.glob(\"gapminder*.csv\"):\n",
    "    print(filename)\n",
    "    if not filename.endswith(\"all.csv\"):\n",
    "        print(\"Passes test:\", filename)\n",
    "        data = pd.read_csv(filename, index_col = \"country\")\n",
    "        data_frames.append(data)\n",
    "\n",
    "all_data = pd.concat(data_frames)\n",
    "print(all_data.shape)"
   ]
  },
  {
   "cell_type": "code",
   "execution_count": null,
   "id": "64c04c60-b33f-464e-869a-95b3f2353a31",
   "metadata": {},
   "outputs": [],
   "source": [
    "# Add an else condition\n",
    "mass = 3.5\n",
    "\n",
    "if mass > 3.0:\n",
    "    print(mass, \"is large\")\n",
    "else:\n",
    "    print(mass, \"is small\")"
   ]
  },
  {
   "cell_type": "code",
   "execution_count": null,
   "id": "36686df4-82e0-4cca-beb5-6eb57750647b",
   "metadata": {},
   "outputs": [],
   "source": [
    "data_frames = []\n",
    "\n",
    "for filename in glob.glob(\"gapminder*.csv\"):\n",
    "    if filename.endswith(\"all.csv\"):\n",
    "        print(\"I don't want any of that\")\n",
    "    else:\n",
    "        print(\"Passes test:\", filename)\n",
    "        data = pd.read_csv(filename, index_col = \"country\")\n",
    "        data_frames.append(data)\n",
    "\n",
    "all_data = pd.concat(data_frames)\n",
    "print(all_data.shape)"
   ]
  },
  {
   "cell_type": "markdown",
   "id": "1f6c2836-416e-495b-9092-d1db975d3ce5",
   "metadata": {},
   "source": [
    "## Challenge 1\n",
    "1. Iterate through all the CSV files in the directory\n",
    "2. Print the name and length (number of rows) of any file less than 30 rows long"
   ]
  },
  {
   "cell_type": "markdown",
   "id": "cb675f25-03c4-4646-8083-c4b15434fba3",
   "metadata": {},
   "source": [
    "## Challenge 2\n",
    "1. Iterate through all the CSV files in the directory\n",
    "2. Print any file name that includes \"europe\", then print the column names for that file."
   ]
  },
  {
   "cell_type": "code",
   "execution_count": null,
   "id": "13c6121b-5110-4eb6-a8ec-d2e082a5d5ff",
   "metadata": {},
   "outputs": [],
   "source": [
    "# Challenge 1\n",
    "for filename in glob.glob(\"*.csv\"):\n",
    "    data = pd.read_csv(filename)\n",
    "    if data.shape[0] < 30:\n",
    "        print(filename, data.shape[0])"
   ]
  },
  {
   "cell_type": "code",
   "execution_count": null,
   "id": "da90a44d-e377-4d08-9340-fbde257efaf0",
   "metadata": {},
   "outputs": [],
   "source": [
    "# Challenge 2\n",
    "for filename in glob.glob(\"*.csv\"):\n",
    "    # A string is kind of like a list\n",
    "    if \"europe\" in filename.lower():\n",
    "        print(filename)\n",
    "        data = pd.read_csv(filename)\n",
    "        print(data.columns)"
   ]
  },
  {
   "cell_type": "code",
   "execution_count": null,
   "id": "63ade609-c07d-4a88-b7ad-7514bbf55b92",
   "metadata": {},
   "outputs": [],
   "source": [
    "# You can specify additional tests with elif\n",
    "mass = 2\n",
    "\n",
    "if mass > 9.0:\n",
    "    print(mass, \"is huge\")\n",
    "elif mass > 3.0:\n",
    "    print(mass, \"is large\")\n",
    "else:\n",
    "    print(mass, \"is small\")"
   ]
  },
  {
   "cell_type": "code",
   "execution_count": null,
   "id": "09890d47-d972-41da-ab69-8361b23d2bc9",
   "metadata": {},
   "outputs": [],
   "source": [
    "# You can do more complicated tests\n",
    "mass = [1, 2, 3, 4, 5]\n",
    "velocity = [5, 4, 3, 2, 5]\n",
    "\n",
    "# Get each pair of measurements\n",
    "for m, v in zip(mass, velocity):\n",
    "    if m <= 3 and v <= 3:\n",
    "        print(\"Small and slow\")\n",
    "    elif m <= 3 and v > 3:\n",
    "        print(\"Small and fast\")\n",
    "    elif m > 3 and v <= 3:\n",
    "        print(\"Large and slow\")\n",
    "    else:\n",
    "        print(\"Check data\")"
   ]
  },
  {
   "cell_type": "markdown",
   "id": "e9162dc0-944c-4742-951f-3070b9c1932b",
   "metadata": {},
   "source": [
    "# Functions"
   ]
  },
  {
   "cell_type": "code",
   "execution_count": null,
   "id": "03034d64-b5e6-4606-8036-7b895cac4b35",
   "metadata": {},
   "outputs": [],
   "source": [
    "def print_greeting():\n",
    "    print(\"Hello!\")"
   ]
  },
  {
   "cell_type": "code",
   "execution_count": null,
   "id": "06a16f85-d19b-41a6-ac41-fe0661aeddbd",
   "metadata": {},
   "outputs": [],
   "source": [
    "print_greeting()"
   ]
  },
  {
   "cell_type": "code",
   "execution_count": null,
   "id": "53973743-7759-4070-b3ee-4a45fc579632",
   "metadata": {},
   "outputs": [],
   "source": [
    "# Functions take arguments\n",
    "def print_date(year, month, day):\n",
    "    joined_date = \"/\".join([str(year), str(month), str(day)])\n",
    "    print(joined_date)"
   ]
  },
  {
   "cell_type": "code",
   "execution_count": null,
   "id": "af7b0067-2fdf-4d3c-b0d9-254a9e2d7085",
   "metadata": {},
   "outputs": [],
   "source": [
    "print_date(\"1872\", \"3\", \"9\")\n",
    "print_date(1872, 3, 9)"
   ]
  },
  {
   "cell_type": "code",
   "execution_count": null,
   "id": "b0e758a4-ebfd-4d1a-91b9-3989b759d25a",
   "metadata": {},
   "outputs": [],
   "source": [
    "# Test your data inside your function\n",
    "def average(values):\n",
    "    \"\"\"Return average of values, or None if no values are supplied.\"\"\"\n",
    "\n",
    "    if len(values) == 0:\n",
    "        return None\n",
    "    else:\n",
    "        return sum(values) / len(values)"
   ]
  },
  {
   "cell_type": "code",
   "execution_count": null,
   "id": "ba63321c-26fc-452f-82d0-9e601d1cf415",
   "metadata": {},
   "outputs": [],
   "source": [
    "a1 = average([1, 2, 3])\n",
    "print(a1)"
   ]
  },
  {
   "cell_type": "code",
   "execution_count": null,
   "id": "95ca9c9d-27ee-468b-9cd5-85d9ffa74525",
   "metadata": {},
   "outputs": [],
   "source": [
    "a2 = average([])\n",
    "print(a2)"
   ]
  },
  {
   "cell_type": "code",
   "execution_count": null,
   "id": "15441336-cb3c-4297-b9a3-c57ed0a41d10",
   "metadata": {},
   "outputs": [],
   "source": [
    "#a3 = average(3)\n",
    "#print(a3)"
   ]
  },
  {
   "cell_type": "markdown",
   "id": "05b5e2ed-5218-4108-bb2a-da7cdf5c7a42",
   "metadata": {},
   "source": [
    "## Challenge\n",
    "Write a function that encapsulates the Z score calculation. Your function should do the following:\n",
    "\n",
    "1. Read a csv file into a dataframe\n",
    "2. Calculate the Z score for each item\n",
    "3. Calculate the mean Z score for each country\n",
    "4. Append the mean Z score as a new column\n",
    "5. Return the data frame"
   ]
  },
  {
   "cell_type": "code",
   "execution_count": null,
   "id": "6ff74709-141c-4e05-9045-d28b9f655258",
   "metadata": {},
   "outputs": [],
   "source": [
    "# Calculate overall mean and std\n",
    "#  data.values.mean()\n",
    "#  data.values.std()"
   ]
  },
  {
   "cell_type": "code",
   "execution_count": null,
   "id": "243fa435-8226-46f3-b180-4a52fddb06f1",
   "metadata": {},
   "outputs": [],
   "source": [
    "pd.__version__"
   ]
  },
  {
   "cell_type": "code",
   "execution_count": null,
   "id": "b547a56d-8fff-42b5-9642-179d4ff3586b",
   "metadata": {
    "editable": true,
    "slideshow": {
     "slide_type": ""
    },
    "tags": []
   },
   "outputs": [],
   "source": [
    "def norm_data(filename, index_col=None):\n",
    "    \"\"\"Add a Z score to a data frame.\"\"\"\n",
    "\n",
    "    # Import the data\n",
    "    data = pd.read_csv(filename, index_col = index_col)\n",
    "\n",
    "    # Drop continent column if necessary. This returns a new data frame.\n",
    "    if \"continent\" in data.columns:\n",
    "        data = data.drop(\"continent\", axis=1)\n",
    "\n",
    "    # Calculate individual Z scores\n",
    "    z = (data - data.values.mean()) / data.values.std()\n",
    "\n",
    "    # Mean Z score for each country\n",
    "    mean_z = z.mean(axis=1)\n",
    "\n",
    "    # Add new column to data frame\n",
    "    data[\"mean_z\"] = mean_z\n",
    "\n",
    "    return data"
   ]
  },
  {
   "cell_type": "code",
   "execution_count": null,
   "id": "f56c3709-e1c3-498e-b124-e13cac1461c7",
   "metadata": {},
   "outputs": [],
   "source": [
    "df = norm_data(\"gapminder_gdp_americas.csv\", index_col = \"country\")\n",
    "print(df.columns)"
   ]
  },
  {
   "cell_type": "markdown",
   "id": "4d1781fb-c35a-4d2e-bb99-736301b8a960",
   "metadata": {
    "editable": true,
    "slideshow": {
     "slide_type": ""
    },
    "tags": []
   },
   "source": [
    "# Putting it all together"
   ]
  },
  {
   "cell_type": "code",
   "execution_count": null,
   "id": "3d0805bb-9d42-4750-933c-8508f81e0364",
   "metadata": {},
   "outputs": [],
   "source": [
    "# Get all the files we care about and get Z scores by continent\n",
    "data_frames = []\n",
    "\n",
    "for filename in glob.glob(\"gapminder*.csv\"):\n",
    "    if not filename.endswith(\"all.csv\"):\n",
    "        df = norm_data(filename, index_col = \"country\")\n",
    "        data_frames.append(df)\n",
    "\n",
    "all_data = pd.concat(data_frames)\n",
    "\n",
    "print(all_data.shape)\n",
    "print(all_data.columns)"
   ]
  },
  {
   "cell_type": "code",
   "execution_count": null,
   "id": "ab46b4ac-f79b-4bd0-8f02-6675de6cc46b",
   "metadata": {},
   "outputs": [],
   "source": []
  }
 ],
 "metadata": {
  "kernelspec": {
   "display_name": "Python 3 (ipykernel)",
   "language": "python",
   "name": "python3"
  },
  "language_info": {
   "codemirror_mode": {
    "name": "ipython",
    "version": 3
   },
   "file_extension": ".py",
   "mimetype": "text/x-python",
   "name": "python",
   "nbconvert_exporter": "python",
   "pygments_lexer": "ipython3",
   "version": "3.11.7"
  }
 },
 "nbformat": 4,
 "nbformat_minor": 5
}
