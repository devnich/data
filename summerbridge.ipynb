{
 "cells": [
  {
   "cell_type": "code",
   "execution_count": null,
   "id": "fb686892-ba25-4d5f-a60e-598c066637f9",
   "metadata": {},
   "outputs": [],
   "source": [
    "3 + 7"
   ]
  },
  {
   "cell_type": "code",
   "execution_count": null,
   "id": "d0811bf9-cb44-4108-aae9-1780a79594e1",
   "metadata": {},
   "outputs": [],
   "source": [
    "print(\"hello\")"
   ]
  },
  {
   "cell_type": "code",
   "execution_count": null,
   "id": "aebe7afd-0302-4e5e-ae64-32f590a86240",
   "metadata": {},
   "outputs": [],
   "source": [
    "print(7)"
   ]
  },
  {
   "cell_type": "code",
   "execution_count": null,
   "id": "7a51cfe7-a81e-4c22-aa60-c8c64efda7bc",
   "metadata": {},
   "outputs": [],
   "source": [
    "name = \"Derek\"\n",
    "age = 42"
   ]
  },
  {
   "cell_type": "code",
   "execution_count": null,
   "id": "d1b5820c-ab72-434b-a1f3-52ad06729c3e",
   "metadata": {},
   "outputs": [],
   "source": [
    "print(age)"
   ]
  },
  {
   "cell_type": "code",
   "execution_count": null,
   "id": "8a9dec67-4cd2-4641-8844-137c9f89849f",
   "metadata": {},
   "outputs": [],
   "source": [
    "# This is a comment. It will not run\n",
    "# You can echo values without using print in this notebook\n",
    "name"
   ]
  },
  {
   "cell_type": "markdown",
   "id": "534021c5-2b24-4cf4-81a7-6fd26c494cef",
   "metadata": {},
   "source": [
    "# Variables and values"
   ]
  },
  {
   "cell_type": "code",
   "execution_count": null,
   "id": "5d29fbdb-cab2-445c-9ee9-8628d4ae7ea8",
   "metadata": {},
   "outputs": [],
   "source": [
    "# Variables can be used in calculations\n",
    "print(age)\n",
    "age = age + 3\n",
    "print(age)"
   ]
  },
  {
   "cell_type": "code",
   "execution_count": null,
   "id": "87fcd983-ecd2-4c43-a417-c43a47dbdfda",
   "metadata": {},
   "outputs": [],
   "source": [
    "# Order of operations matters!\n",
    "first = 1\n",
    "second = first * 5\n",
    "first = 2\n",
    "\n",
    "print(first)\n",
    "print(second)"
   ]
  },
  {
   "cell_type": "code",
   "execution_count": null,
   "id": "427a1f84-2b3b-4d4e-b859-42320594f7cc",
   "metadata": {},
   "outputs": [],
   "source": [
    "# Values have types. Types affect what you can do with them.\n",
    "print(5 - 3)\n",
    "#print(\"hello\" - \"h\")"
   ]
  },
  {
   "cell_type": "code",
   "execution_count": null,
   "id": "1a213205-6383-4c4f-866c-6d31d6411c3f",
   "metadata": {},
   "outputs": [],
   "source": [
    "print(len(\"hello\"))\n",
    "#print(len(6))"
   ]
  },
  {
   "cell_type": "markdown",
   "id": "add6d037-93e4-474b-9855-8c26a46a8b7b",
   "metadata": {},
   "source": [
    "## Challenge\n",
    "Explain what each operator does\n",
    "\n",
    "print(5 // 3)\n",
    "\n",
    "print(5 / 3)\n",
    "\n",
    "print(5 % 3)"
   ]
  },
  {
   "cell_type": "code",
   "execution_count": null,
   "id": "d2df9bad-f52e-4957-afc3-7a597393a662",
   "metadata": {},
   "outputs": [],
   "source": [
    "print(5 // 3)\n",
    "print(5 / 3)\n",
    "print(5 % 3)"
   ]
  },
  {
   "cell_type": "markdown",
   "id": "151a4403-b486-4517-8d6d-45899c80ec12",
   "metadata": {},
   "source": [
    "# Getting help"
   ]
  },
  {
   "cell_type": "code",
   "execution_count": null,
   "id": "220befd9-25e5-4ed9-bedf-60fcda3ce1f1",
   "metadata": {},
   "outputs": [],
   "source": [
    "# Rounding numbers is built in\n",
    "round(3.14159)"
   ]
  },
  {
   "cell_type": "code",
   "execution_count": null,
   "id": "05dee744-f27e-4194-96c3-fcca2722a606",
   "metadata": {},
   "outputs": [],
   "source": [
    "round(3.14159, 2)"
   ]
  },
  {
   "cell_type": "code",
   "execution_count": null,
   "id": "220bef17-0318-4242-9f15-632625668e4d",
   "metadata": {},
   "outputs": [],
   "source": [
    "help(round)"
   ]
  },
  {
   "cell_type": "code",
   "execution_count": null,
   "id": "f51799b9-0435-431b-a0aa-7e7eeb82be29",
   "metadata": {},
   "outputs": [],
   "source": [
    "round(3.14159, ndigits=2)"
   ]
  },
  {
   "cell_type": "code",
   "execution_count": null,
   "id": "1d6e8e52-b246-4c40-baf2-aaa798eaca45",
   "metadata": {},
   "outputs": [],
   "source": [
    "# All functions return a new value\n",
    "rounded_pi = round(3.14159, 2)\n",
    "print(rounded_pi)"
   ]
  },
  {
   "cell_type": "markdown",
   "id": "4d2241ff-af19-42c7-a938-011ace354935",
   "metadata": {},
   "source": [
    "## Challenge\n",
    "\n",
    "In what order do the operations happen?\n",
    "\n",
    "radiance = 1.0\n",
    "\n",
    "radiance = max(2.1, 2.0 + min(radiance, 1.1 * radiance - 0.5))"
   ]
  },
  {
   "cell_type": "code",
   "execution_count": null,
   "id": "e6d6b4ad-5bfb-4e5c-beab-9610fe8c2229",
   "metadata": {},
   "outputs": [],
   "source": [
    "help(min)"
   ]
  },
  {
   "cell_type": "code",
   "execution_count": null,
   "id": "0066f727-2919-4f30-8f85-af98862b2014",
   "metadata": {},
   "outputs": [],
   "source": [
    "radiance = 1.0\n",
    "radiance = max(2.1, 2.0 + min(radiance, 1.1 * radiance - 0.5))\n",
    "\n",
    "print(radiance)"
   ]
  },
  {
   "cell_type": "code",
   "execution_count": null,
   "id": "667a51df-5d15-4d0b-9893-0443e79cce33",
   "metadata": {},
   "outputs": [],
   "source": [
    "# Break down these operations\n",
    "radiance = 1.0\n",
    "\n",
    "min_arg_2 = 1.1 * radiance - 0.5\n",
    "print(\"Min arg 2:\", min_arg_2)\n",
    "\n",
    "min_result = min(radiance, min_arg_2)\n",
    "print(\"Min result:\", min_result)\n",
    "\n",
    "radiance = max(2.1, 2.0 + min_result)\n",
    "print(radiance)"
   ]
  },
  {
   "cell_type": "markdown",
   "id": "499a7014-94fc-4cc1-84e1-fe585e74788c",
   "metadata": {},
   "source": [
    "# A Brief Interlude with Git"
   ]
  },
  {
   "cell_type": "markdown",
   "id": "1db24f32-fee4-4ac8-9039-35bed70262f1",
   "metadata": {},
   "source": [
    "# Libraries"
   ]
  },
  {
   "cell_type": "code",
   "execution_count": null,
   "id": "66008a40-af96-4061-9aed-b5655bbbbbd0",
   "metadata": {},
   "outputs": [],
   "source": [
    "import math"
   ]
  },
  {
   "cell_type": "code",
   "execution_count": null,
   "id": "43ed3e70-44dd-4afb-aab2-e06547178639",
   "metadata": {},
   "outputs": [],
   "source": [
    "math.pi"
   ]
  },
  {
   "cell_type": "code",
   "execution_count": null,
   "id": "eec8e7c7-7255-4969-99f7-a02f37bc0507",
   "metadata": {},
   "outputs": [],
   "source": [
    "print(math.pi)\n",
    "print(math.cos(math.pi))"
   ]
  },
  {
   "cell_type": "code",
   "execution_count": null,
   "id": "29d00f4e-c27d-4f85-9f5d-9d4195586cf6",
   "metadata": {},
   "outputs": [],
   "source": [
    "# get complete help with help()\n",
    "#help(math)\n",
    "\n",
    "# Get a list of options with dir()\n",
    "print(dir(math))"
   ]
  },
  {
   "cell_type": "markdown",
   "id": "9f03282d-700c-4451-9f47-9fd978464493",
   "metadata": {},
   "source": [
    "# List"
   ]
  },
  {
   "cell_type": "code",
   "execution_count": null,
   "id": "d02413e8-d1a4-4eb8-b3a7-19f3379e3909",
   "metadata": {},
   "outputs": [],
   "source": [
    "# A list is an ordered collection of stuff\n",
    "fruits = [\"apple\", \"banana\", \"cherry\", \"date\", \"elderberry\", \"fig\"]"
   ]
  },
  {
   "cell_type": "code",
   "execution_count": null,
   "id": "7743061a-433e-417b-8405-e90cb0183653",
   "metadata": {},
   "outputs": [],
   "source": [
    "fruits"
   ]
  },
  {
   "cell_type": "code",
   "execution_count": null,
   "id": "e1e2b097-8df9-41d1-b43e-39e8deff532a",
   "metadata": {},
   "outputs": [],
   "source": [
    "len(fruits)"
   ]
  },
  {
   "cell_type": "code",
   "execution_count": null,
   "id": "b394e360-93c6-48af-9a75-435297b3039b",
   "metadata": {},
   "outputs": [],
   "source": [
    "# Lists are indexed by position, counting from 0\n",
    "# First item\n",
    "print(fruits[0])\n",
    "\n",
    "# Fifth item\n",
    "print(fruits[4])"
   ]
  },
  {
   "cell_type": "code",
   "execution_count": null,
   "id": "4d1716e3-01a0-4d15-9880-7b8cc57a7fd3",
   "metadata": {},
   "outputs": [],
   "source": [
    "# Get subsets by slicing the list\n",
    "# Get the first 3 items\n",
    "fruits[0:3]"
   ]
  },
  {
   "cell_type": "code",
   "execution_count": null,
   "id": "8f86549e-cb7d-4549-9963-51bd89842740",
   "metadata": {},
   "outputs": [],
   "source": [
    "fruits[2:5]"
   ]
  },
  {
   "cell_type": "code",
   "execution_count": null,
   "id": "689e01e9-6b65-46df-848e-b74f8c688e9c",
   "metadata": {},
   "outputs": [],
   "source": [
    "# Get items by step\n",
    "# Get the first 5 items, every other item\n",
    "fruits[0:5:2]"
   ]
  },
  {
   "cell_type": "code",
   "execution_count": null,
   "id": "b4324a33-87b0-44f6-8c0d-8eb4f84f64fa",
   "metadata": {},
   "outputs": [],
   "source": [
    "# Get first 5 items, every 3rd item\n",
    "fruits[0:5:3]"
   ]
  },
  {
   "cell_type": "code",
   "execution_count": null,
   "id": "f774102c-041f-421c-91d2-0fee95323b9e",
   "metadata": {},
   "outputs": [],
   "source": [
    "print(len(fruits))"
   ]
  },
  {
   "cell_type": "markdown",
   "id": "6ed6b303-dcdd-477d-bcb5-198af5f54ee7",
   "metadata": {},
   "source": [
    "# Challenge\n",
    "\n",
    "What are the following statements doing?\n",
    "\n",
    "fruits[-1]\n",
    "\n",
    "fruits[20]\n",
    "\n",
    "fruits[-3:]"
   ]
  },
  {
   "cell_type": "code",
   "execution_count": null,
   "id": "218c15ab-8548-48b0-a661-2ba226944d5e",
   "metadata": {},
   "outputs": [],
   "source": [
    "print(fruits[-1])\n",
    "#print(fruits[20])\n",
    "print(fruits[-3:])"
   ]
  },
  {
   "cell_type": "code",
   "execution_count": null,
   "id": "fb2c69ce-c2b8-4cd9-b50b-b7d3993210d7",
   "metadata": {
    "scrolled": true
   },
   "outputs": [],
   "source": [
    "# Why are lists indexed this way?\n",
    "print(fruits[:2])\n",
    "print(fruits[2:])\n",
    "\n",
    "print(len(fruits[1:3]))"
   ]
  },
  {
   "cell_type": "markdown",
   "id": "8d647cb7-6985-46c7-8bdb-db9833c74d1e",
   "metadata": {},
   "source": [
    "## Adding stuff to lists"
   ]
  },
  {
   "cell_type": "code",
   "execution_count": null,
   "id": "138d73a6-8af6-450e-8612-74d560cea3ea",
   "metadata": {},
   "outputs": [],
   "source": [
    "# Update a specific item\n",
    "print(fruits)\n",
    "\n",
    "fruits[0] = \"apricot\"\n",
    "print(fruits)"
   ]
  },
  {
   "cell_type": "code",
   "execution_count": null,
   "id": "825f5395-0ebf-4d37-a1af-97adb4defaea",
   "metadata": {},
   "outputs": [],
   "source": [
    "# Add new items to the list\n",
    "fruits.append(\"grape\")\n",
    "\n",
    "print(fruits)"
   ]
  },
  {
   "cell_type": "code",
   "execution_count": null,
   "id": "dff95351-485e-4b16-9c34-5aaffecd95ce",
   "metadata": {},
   "outputs": [],
   "source": [
    "# Add items from a second list to the first list\n",
    "more_fruits = [\"honeydew\", \"imbe\", \"jackfruit\"]\n",
    "fruits.extend(more_fruits)\n",
    "\n",
    "print(fruits)"
   ]
  },
  {
   "cell_type": "code",
   "execution_count": null,
   "id": "752614be-e0f4-44c9-b801-2be50c64fd48",
   "metadata": {},
   "outputs": [],
   "source": [
    "# Many functions operate on collections\n",
    "# Assessing our wide receiving corp\n",
    "receiving_yards = [450, 370, 870, 150]\n",
    "\n",
    "mean_yards = sum(receiving_yards)/len(receiving_yards)\n",
    "print(mean_yards)"
   ]
  },
  {
   "cell_type": "markdown",
   "id": "5b6b3fe9-a5a6-407b-98aa-651dab949213",
   "metadata": {},
   "source": [
    "# For loops"
   ]
  },
  {
   "cell_type": "code",
   "execution_count": null,
   "id": "71ddfa0f-045a-4873-a1c9-5a3e6ebaf068",
   "metadata": {},
   "outputs": [],
   "source": [
    "for fruit in fruits:\n",
    "    print(fruit)"
   ]
  },
  {
   "cell_type": "code",
   "execution_count": null,
   "id": "7e63252e-991c-47fb-b090-105c9509083e",
   "metadata": {},
   "outputs": [],
   "source": [
    "for bob in fruits:\n",
    "    print(bob)"
   ]
  },
  {
   "cell_type": "code",
   "execution_count": null,
   "id": "6389c2e7-bbd4-4d04-b7a5-8742178c63a1",
   "metadata": {},
   "outputs": [],
   "source": [
    "# Code blocks can contain many statements\n",
    "primes = [2, 3, 5]\n",
    "for p in primes:\n",
    "    squared = p ** 2\n",
    "    cubed = p ** 3\n",
    "    print(p, squared, cubed)"
   ]
  },
  {
   "cell_type": "code",
   "execution_count": null,
   "id": "bf2da52e-ba39-4533-962d-4466bb214951",
   "metadata": {},
   "outputs": [],
   "source": [
    "# Create a new collection from an existing collection\n",
    "primes_squared = []\n",
    "for p in primes:\n",
    "    primes_squared.append(p ** 2)\n",
    "\n",
    "print(primes_squared)"
   ]
  },
  {
   "cell_type": "markdown",
   "id": "fb9985f9-9a0f-4c67-82e6-bddf4afdd7a7",
   "metadata": {},
   "source": [
    "## Challenge\n",
    "\n",
    "Get the total length of all the items in the fruits list (i.e. total character count)#"
   ]
  },
  {
   "cell_type": "code",
   "execution_count": null,
   "id": "876eae62-ff68-488d-bd1c-cbbd460826d3",
   "metadata": {},
   "outputs": [],
   "source": [
    "# Solution 1\n",
    "fruit_lengths = []\n",
    "for f in fruits:\n",
    "    fruit_lengths.append(len(f))\n",
    "\n",
    "print(fruit_lengths)\n",
    "print(sum(fruit_lengths))"
   ]
  },
  {
   "cell_type": "code",
   "execution_count": null,
   "id": "ebcd9c42-62a3-4b50-a91e-2925bde784bf",
   "metadata": {},
   "outputs": [],
   "source": [
    "# Solution 2\n",
    "count = 0\n",
    "for f in fruits:\n",
    "    count = count + len(f)\n",
    "    print(count)\n",
    "\n",
    "print(\"Final count\", count)"
   ]
  },
  {
   "cell_type": "code",
   "execution_count": null,
   "id": "45a30c2b-070a-4e7f-a582-3a9e1b1c72c0",
   "metadata": {},
   "outputs": [],
   "source": [
    "# Generator comprehension\n",
    "sum(len(f) for f in fruits)"
   ]
  },
  {
   "cell_type": "code",
   "execution_count": null,
   "id": "d8cd1624-3b67-4188-9a53-f53755cb4e91",
   "metadata": {},
   "outputs": [],
   "source": [
    "# Text join\n",
    "joined_fruits = \"\".join(fruits)\n",
    "print(joined_fruits)\n",
    "print(len(joined_fruits))"
   ]
  },
  {
   "cell_type": "code",
   "execution_count": null,
   "id": "691d9f25-d91b-44f2-b0a1-e9dcd8de4eb4",
   "metadata": {},
   "outputs": [],
   "source": [
    "print(\"_\".join(fruits))"
   ]
  },
  {
   "cell_type": "code",
   "execution_count": null,
   "id": "47b2282c-f5e9-41d5-899f-8a1ca60a62c5",
   "metadata": {},
   "outputs": [],
   "source": []
  }
 ],
 "metadata": {
  "kernelspec": {
   "display_name": "Python 3 (ipykernel)",
   "language": "python",
   "name": "python3"
  },
  "language_info": {
   "codemirror_mode": {
    "name": "ipython",
    "version": 3
   },
   "file_extension": ".py",
   "mimetype": "text/x-python",
   "name": "python",
   "nbconvert_exporter": "python",
   "pygments_lexer": "ipython3",
   "version": "3.11.7"
  }
 },
 "nbformat": 4,
 "nbformat_minor": 5
}
